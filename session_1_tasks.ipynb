{
 "cells": [
  {
   "cell_type": "markdown",
   "metadata": {
    "id": "A05OG15VqOPF"
   },
   "source": [
    "# Task : Session 1\n",
    "Solve these questions own your own and try to test yourself what you have learned in the session.\n",
    "\n",
    "Happy Learning!"
   ]
  },
  {
   "cell_type": "markdown",
   "metadata": {
    "id": "2doIXf8bqe9_"
   },
   "source": [
    "### Q1 :- Print the given strings as per stated format.\n",
    "\n",
    "**Given strings**:\n",
    "```\n",
    "\"Data\" \"Science\" \"Mentorship\" \"Program\"\n",
    "\"By\" \"CampusX\"\n",
    "```\n",
    "**Output**:\n",
    "```\n",
    "Data-Science-Mentorship-Program-started-By-someone\n",
    "```\n",
    "\n",
    "Concept- [Seperator and End]"
   ]
  },
  {
   "cell_type": "code",
   "execution_count": 8,
   "metadata": {
    "id": "-em6d3KErDtp"
   },
   "outputs": [
    {
     "name": "stdout",
     "output_type": "stream",
     "text": [
      "Data-Science-Mentorship-Program-By-CampusX\n"
     ]
    }
   ],
   "source": [
    "# Write your code here\n",
    "a, b, c, d, e, f = \"Data\", \"Science\", \"Mentorship\", \"Program\", \"By\", \"CampusX\"\n",
    "print(a, b, c, d, e, f, sep='-')"
   ]
  },
  {
   "cell_type": "markdown",
   "metadata": {
    "id": "1KUpN7ZTrC3_"
   },
   "source": [
    "### Q2:- Write a program that will convert celsius value to fahrenheit.\n",
    "> Formula --> F = 9*C/5 + 32\n",
    "\n",
    "input C= 27 deg"
   ]
  },
  {
   "cell_type": "code",
   "execution_count": 1,
   "metadata": {
    "id": "yxKYhYQiqWfj"
   },
   "outputs": [
    {
     "name": "stdout",
     "output_type": "stream",
     "text": [
      "Enter temperature value in celsius: 27\n",
      "Temperature in Fahrenheit =  80.6\n"
     ]
    }
   ],
   "source": [
    "# Write your code here\n",
    "C = float(input('Enter temperature value in celsius: '))\n",
    "F = (9 * C / 5) + 32\n",
    "print('Temperature in Fahrenheit = ', F)"
   ]
  },
  {
   "cell_type": "markdown",
   "metadata": {
    "id": "RLrOBBJurLB2"
   },
   "source": [
    "### Q3:- Take 2 numbers as input from the user.Write a program to swap the numbers without using any special python syntax."
   ]
  },
  {
   "cell_type": "code",
   "execution_count": 2,
   "metadata": {
    "id": "yPn7if0TrJ4F"
   },
   "outputs": [
    {
     "name": "stdout",
     "output_type": "stream",
     "text": [
      "a = 5\n",
      "b = 8\n",
      "Swapped values a = 8 & b = 5\n"
     ]
    }
   ],
   "source": [
    "# Write your code here\n",
    "a = int(input('a = '))\n",
    "b = int(input('b = '))\n",
    "temp = b\n",
    "b = a\n",
    "a = temp\n",
    "print(f'Swapped values a = {a} & b = {b}')"
   ]
  },
  {
   "cell_type": "markdown",
   "metadata": {
    "id": "waLCP1bjr7ML"
   },
   "source": [
    "### Q4:- Write a program to find the euclidean distance between two coordinates.Take both the coordinates from the user as input.\n",
    "D = (x2 − x1)^2 + (y2 − y1)^2"
   ]
  },
  {
   "cell_type": "code",
   "execution_count": 14,
   "metadata": {
    "id": "Pl1Sv-xnrxnH"
   },
   "outputs": [
    {
     "name": "stdout",
     "output_type": "stream",
     "text": [
      "Enter x1: 15\n",
      "Enter x2: 18\n",
      "Enter y1: 93\n",
      "Enter y2: 77\n",
      "Eucledian distance between (15, 18) & (93, 77) is 16.28\n"
     ]
    }
   ],
   "source": [
    "# Write your code here\n",
    "x1 = int(input('Enter x1: '))\n",
    "x2 = int(input('Enter x2: '))\n",
    "y1 = int(input('Enter y1: '))\n",
    "y2 = int(input('Enter y2: '))\n",
    "D = ((x2 - x1)**2 + (y2 - y1)**2)**0.5\n",
    "print(f'Eucledian distance between {x1, x2} & {y1, y2} is {D:.2f}')"
   ]
  },
  {
   "cell_type": "markdown",
   "metadata": {
    "id": "VLrhg-FRsHjR"
   },
   "source": [
    "### Q5:- Write a program to find the simple interest when the value of principle,rate of interest and time period is provided by the user.\n"
   ]
  },
  {
   "cell_type": "code",
   "execution_count": 15,
   "metadata": {
    "id": "s40DlReZsTmY"
   },
   "outputs": [
    {
     "name": "stdout",
     "output_type": "stream",
     "text": [
      "Enter principle: 100000\n",
      "Enter RoI in %: 9\n",
      "Enter time in years: 1\n",
      "Simple Interest =  9000.0\n"
     ]
    }
   ],
   "source": [
    "# Write your code here\n",
    "p = int(input('Enter principle: '))\n",
    "r = float(input('Enter RoI in %: '))\n",
    "t = int(input('Enter time in years: '))\n",
    "SI = p*r*t/100\n",
    "print('Simple Interest = ', SI)\n"
   ]
  },
  {
   "cell_type": "markdown",
   "metadata": {
    "id": "LMy0BTUktYKa"
   },
   "source": [
    "### Q6:- Write a program that will tell the number of dogs and chicken are there when the user will provide the value of total heads and legs.\n",
    "\n",
    "For example:\n",
    "Input:\n",
    "heads -> 4\n",
    "legs -> 12\n",
    "<br>\n",
    "Output:\n",
    "dogs -> 2\n",
    "chicken -> 2\n",
    "\n",
    "\n",
    "\n"
   ]
  },
  {
   "cell_type": "code",
   "execution_count": 18,
   "metadata": {
    "id": "XSBvJoA4tXaG"
   },
   "outputs": [
    {
     "name": "stdout",
     "output_type": "stream",
     "text": [
      "Enter number of heads: 4\n",
      "Enter number of legs: 12\n",
      "Dogs = 2 & Chicken = 2\n"
     ]
    }
   ],
   "source": [
    "# Write your code here\n",
    "h = int(input('Enter number of heads: '))\n",
    "l = int(input('Enter number of legs: '))\n",
    "c = (4*h - l)/2\n",
    "d = h - c\n",
    "if c//1 + d//1 != h:\n",
    "    print('Invalid combination')\n",
    "else:\n",
    "    print(f'Dogs = {int(d)} & Chicken = {int(c)}')"
   ]
  },
  {
   "cell_type": "markdown",
   "metadata": {
    "id": "gJ7C5kZYt4BP"
   },
   "source": [
    "### Q7:- Write a program to find the sum of squares of first n natural numbers where n will be provided by the user.\n",
    "\n",
    "Formula = [n(n+1)(2n+1)] / 6"
   ]
  },
  {
   "cell_type": "code",
   "execution_count": 7,
   "metadata": {
    "id": "_tHsmEHzt2nX"
   },
   "outputs": [
    {
     "name": "stdout",
     "output_type": "stream",
     "text": [
      "Enter n: 5\n",
      "Sum of squares of n natural numbers is:  55.0\n"
     ]
    }
   ],
   "source": [
    "# Write your code here\n",
    "n = int(input('Enter n: '))\n",
    "print('Sum of squares of n natural numbers is: ', n*(n+1)*(2*n+1)/6)"
   ]
  },
  {
   "cell_type": "markdown",
   "metadata": {
    "id": "FHrMM7g-yG1h"
   },
   "source": [
    "### Q8:- Given the first 2 terms of an Arithmetic Series.Find the Nth term of the series. Assume all inputs are provided by the user."
   ]
  },
  {
   "cell_type": "code",
   "execution_count": 1,
   "metadata": {
    "id": "go4_kmZmyVSx"
   },
   "outputs": [
    {
     "name": "stdout",
     "output_type": "stream",
     "text": [
      "Enter first term   : 2\n",
      "Enter secondd term : 4\n",
      "Enter N            : 5\n",
      "Nth term is        : 10\n"
     ]
    }
   ],
   "source": [
    "# Write your code here\n",
    "a1 = int(input('Enter first term   : '))\n",
    "a2 = int(input('Enter secondd term : '))\n",
    "n = int(input('Enter N            : '))\n",
    "d = a2 - a1\n",
    "print('Nth term is        :', a1 + d * (n-1))"
   ]
  },
  {
   "cell_type": "markdown",
   "metadata": {
    "id": "QgyRX_es1oum"
   },
   "source": [
    "### Q9:- Given 2 fractions, find the sum of those 2 fractions.Take the numerator and denominator values of the fractions from the user."
   ]
  },
  {
   "cell_type": "code",
   "execution_count": 2,
   "metadata": {
    "id": "X05xqFS1yW16"
   },
   "outputs": [
    {
     "name": "stdout",
     "output_type": "stream",
     "text": [
      "Enter N/r 1: 1\n",
      "Enter D/r 1: 2\n",
      "Enter N/r 2: 3\n",
      "Enter D/r 2: 2\n",
      "Sum of two fractions is:  2.0\n"
     ]
    }
   ],
   "source": [
    "# Write your code here\n",
    "n1 = int(input('Enter N/r 1: '))\n",
    "d1 = int(input('Enter D/r 1: '))\n",
    "n2 = int(input('Enter N/r 2: '))\n",
    "d2 = int(input('Enter D/r 2: '))\n",
    "print('Sum of two fractions is: ', (n1/d1) + (n2/d2))"
   ]
  },
  {
   "cell_type": "markdown",
   "metadata": {
    "id": "eaql38ln13u7"
   },
   "source": [
    "### Q10:- Given the height, width and breadth of a milk tank, you have to find out how many glasses of milk can be obtained? Assume all the inputs are provided by the user.\n",
    "\n",
    "\n",
    "\n",
    "Input:<br>\n",
    "Dimensions of the milk tank<br>\n",
    "H = 20cm, L = 20cm, B = 20cm\n",
    "<br><br>\n",
    "Dimensions of the glass<br>\n",
    "h = 3cm, r = 1cm"
   ]
  },
  {
   "cell_type": "code",
   "execution_count": 5,
   "metadata": {
    "id": "FePZqno74eWv"
   },
   "outputs": [
    {
     "name": "stdout",
     "output_type": "stream",
     "text": [
      "Enter milk tank dimensions below\n",
      "Enter height : 20\n",
      "Enter length : 20\n",
      "Enter breadth: 20\n",
      "Enter dimensions of glass\n",
      "Enter height :3\n",
      "Enter radius :1\n",
      "849 glasses of milk can be obtained\n"
     ]
    }
   ],
   "source": [
    "# Write your code here\n",
    "print('Enter milk tank dimensions below')\n",
    "H = int(input('Enter height : '))\n",
    "L = int(input('Enter length : '))\n",
    "B = int(input('Enter breadth: '))\n",
    "print('Enter dimensions of glass')\n",
    "h = int(input('Enter height :'))\n",
    "r = int(input('Enter radius :'))\n",
    "print(round(H*L*B/(3.14*r*r*h)), 'glasses of milk can be obtained')\n",
    "            "
   ]
  }
 ],
 "metadata": {
  "colab": {
   "provenance": []
  },
  "kernelspec": {
   "display_name": "Python 3 (ipykernel)",
   "language": "python",
   "name": "python3"
  },
  "language_info": {
   "codemirror_mode": {
    "name": "ipython",
    "version": 3
   },
   "file_extension": ".py",
   "mimetype": "text/x-python",
   "name": "python",
   "nbconvert_exporter": "python",
   "pygments_lexer": "ipython3",
   "version": "3.11.5"
  }
 },
 "nbformat": 4,
 "nbformat_minor": 1
}
